{
 "cells": [
  {
   "cell_type": "code",
   "execution_count": 1,
   "metadata": {},
   "outputs": [
    {
     "name": "stdout",
     "output_type": "stream",
     "text": [
      "[ 17.  18.  19.  20.  21.]\n",
      "[ 22.  23.  24.  25.  26.]\n"
     ]
    }
   ],
   "source": [
    "import tensorflow as tf\n",
    "\n",
    "#reading arrays x and y\n",
    "x = tf.constant([17.0, 18.0, 19.0,20.0,21.0], name='x')\n",
    "y = tf.constant([22.0, 23.0, 24.0,25.0,26.0], name='y')\n",
    "\n",
    "\n",
    "\n",
    "model = tf.global_variables_initializer()\n",
    "\n",
    "with tf.Session() as session:\n",
    "\tsession.run(model)\n",
    "\tprint(session.run(x))\n",
    "with tf.Session() as session:\n",
    "\tsession.run(model)\n",
    "\tprint(session.run(y))"
   ]
  },
  {
   "cell_type": "code",
   "execution_count": 2,
   "metadata": {},
   "outputs": [
    {
     "name": "stdout",
     "output_type": "stream",
     "text": [
      "19.0\n",
      "24.0\n"
     ]
    }
   ],
   "source": [
    "#mean of x and y\n",
    "sum1=tf.constant(0)\n",
    "with tf.name_scope(\"mean_x\"):\n",
    "    with tf.Session() as sess:\n",
    "        for i in range(len(sess.run(x))):\n",
    "            output =sess.run(x[i])\n",
    "            sum1=tf.add(sum1,output)\n",
    "        a=tf.divide(sum1,len(sess.run(x)))\n",
    "        meanx=sess.run(a)\n",
    "print(meanx)\n",
    "\n",
    "\n",
    "sum1=tf.constant(0)\n",
    "with tf.name_scope(\"mean_y\"):\n",
    "      with tf.Session() as sess:\n",
    "        for i in range(len(sess.run(y))):\n",
    "            output =sess.run(y[i])\n",
    "            sum1=tf.add(sum1,output)\n",
    "        a=tf.divide(sum1,len(sess.run(y)))\n",
    "        meany=sess.run(a)\n",
    "print(meany)"
   ]
  },
  {
   "cell_type": "code",
   "execution_count": 3,
   "metadata": {},
   "outputs": [
    {
     "name": "stdout",
     "output_type": "stream",
     "text": [
      "10.0\n",
      "10.0\n"
     ]
    }
   ],
   "source": [
    "#variance and covariance\n",
    "sum2=tf.constant(0.0)\n",
    "with tf.name_scope(\"Variance\"):\n",
    "    with tf.Session() as sess:\n",
    "        for i in range(len(sess.run(x))):\n",
    "            a=tf.subtract(x[i],meanx)\n",
    "            b=tf.square(a)\n",
    "            sum2=tf.add(sum2,b)\n",
    "        variance=sess.run(sum2)\n",
    "print(variance)\n",
    "\n",
    "\n",
    "\n",
    "\n",
    "sum3=tf.constant(0.0)\n",
    "with tf.name_scope(\"Covariance\"):\n",
    "    with tf.Session() as sess:\n",
    "        for i in range(len(sess.run(x))):\n",
    "            a=tf.subtract(sess.run(x[i]),meanx)\n",
    "            b=tf.subtract(sess.run(y[i]),meany)\n",
    "            c=tf.multiply(a,b)\n",
    "            sum3=tf.add(sum3,c)\n",
    "        covariance=sess.run(sum3)\n",
    "print(covariance)\n"
   ]
  },
  {
   "cell_type": "code",
   "execution_count": 4,
   "metadata": {},
   "outputs": [
    {
     "name": "stdout",
     "output_type": "stream",
     "text": [
      "1.0\n"
     ]
    }
   ],
   "source": [
    "#value of m\n",
    "with tf.name_scope(\"value_of_m\"):\n",
    "    l=tf.divide(covariance,variance)\n",
    "print(l)"
   ]
  },
  {
   "cell_type": "code",
   "execution_count": 5,
   "metadata": {},
   "outputs": [
    {
     "name": "stdout",
     "output_type": "stream",
     "text": [
      "5.0\n"
     ]
    }
   ],
   "source": [
    "#value of c\n",
    "with tf.name_scope(\"value_of_c\"):\n",
    "    me=tf.to_float(meany)\n",
    "    m1=tf.multiply(l,meanx)\n",
    "    m=tf.subtract(me,m1)\n",
    "\n",
    "with tf.Session() as session:\n",
    "\tsession.run(model)\n",
    "\tprint(session.run(m))"
   ]
  },
  {
   "cell_type": "code",
   "execution_count": 6,
   "metadata": {},
   "outputs": [
    {
     "name": "stdout",
     "output_type": "stream",
     "text": [
      "[6.0, 7.0, 8.0, 9.0, 10.0]\n"
     ]
    }
   ],
   "source": [
    "#Estimating Y values from X values\n",
    "import numpy \n",
    "import tensorflow as tf\n",
    "with tf.Session() as sess:\n",
    "    x1=sess.run(x)\n",
    "    y1=sess.run(y)\n",
    "graph_X = numpy.asarray(x1)\n",
    "graph_Y = numpy.asarray(y1)\n",
    "\n",
    "\n",
    "x2=tf.constant([1.0, 2.0, 3.0, 4.0, 5.0])\n",
    "with tf.Session() as sess:\n",
    "    x3=sess.run(x2)\n",
    "x4=numpy.asarray(x3)\n",
    "\n",
    "y2=[0]*5\n",
    "    \n",
    "with tf.Session() as sess:\n",
    "        for i in range(len(sess.run(x2))):\n",
    "            xx = sess.run(x2[i])\n",
    "            a=tf.multiply(xx,l)\n",
    "            b=tf.add(a,m)\n",
    "            y2[i]=sess.run(b)\n",
    "print(y2)"
   ]
  },
  {
   "cell_type": "code",
   "execution_count": 7,
   "metadata": {},
   "outputs": [
    {
     "name": "stdout",
     "output_type": "stream",
     "text": [
      "5.0\n"
     ]
    }
   ],
   "source": [
    "#Root mean square error\n",
    "with tf.name_scope(\"RMS_error\"):\n",
    "    rms=tf.sqrt(tf.reduce_mean(tf.squared_difference(x,y)))\n",
    "    \n",
    "with tf.Session() as sess:\n",
    "    print(sess.run(rms))"
   ]
  },
  {
   "cell_type": "code",
   "execution_count": 9,
   "metadata": {},
   "outputs": [
    {
     "data": {
      "image/png": "[encoded data removed]",
      "text/plain": [
       "<matplotlib.figure.Figure at 0x7fb17ba05eb8>"
      ]
     },
     "metadata": {},
     "output_type": "display_data"
    }
   ],
   "source": [
    "#Graph\n",
    "import matplotlib.pyplot as plt\n",
    "plt.plot(graph_X,graph_Y, 'ro', label='Actual values')\n",
    "plt.plot(x4, y2, label='fitted line')\n",
    "plt.legend()\n",
    "plt.show()"
   ]
  },
  {
   "cell_type": "code",
   "execution_count": null,
   "metadata": {
    "collapsed": true
   },
   "outputs": [],
   "source": []
  }
 ],
 "metadata": {
  "kernelspec": {
   "display_name": "Python 3",
   "language": "python",
   "name": "python3"
  },
  "language_info": {
   "codemirror_mode": {
    "name": "ipython",
    "version": 3
   },
   "file_extension": ".py",
   "mimetype": "text/x-python",
   "name": "python",
   "nbconvert_exporter": "python",
   "pygments_lexer": "ipython3",
   "version": "3.6.1"
  }
 },
 "nbformat": 4,
 "nbformat_minor": 2
}
